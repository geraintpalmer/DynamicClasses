{
 "cells": [
  {
   "cell_type": "code",
   "execution_count": 17,
   "id": "e8b2e64b",
   "metadata": {},
   "outputs": [],
   "source": [
    "import sys\n",
    "\n",
    "sys.path.append(\"..\")\n",
    "import models"
   ]
  },
  {
   "cell_type": "code",
   "execution_count": 18,
   "id": "3904daa4",
   "metadata": {},
   "outputs": [],
   "source": [
    "arrival_rates = [i for i in range(1, 10, 2)]\n",
    "service_rates = [i for i in range(1, 10, 2)]\n",
    "transition_rates = [i for i in range(1, 10, 2)]\n",
    "number_of_servers = [1, 2, 3, 4]\n",
    "warmup = 400\n",
    "max_simulation_time = 5000\n",
    "cooldown = 200"
   ]
  },
  {
   "cell_type": "code",
   "execution_count": 19,
   "id": "7264d9bf",
   "metadata": {},
   "outputs": [],
   "source": [
    "params = []\n",
    "for l1 in arrival_rates:\n",
    "    for l2 in arrival_rates:\n",
    "        for m1 in service_rates:\n",
    "            for m2 in service_rates:\n",
    "                for t1 in transition_rates:\n",
    "                    for t2 in transition_rates:\n",
    "                        for c in number_of_servers:\n",
    "                            row = [l1, l2, m1, m2, t1, t2, c]\n",
    "                            id_num = \"\".join(str(r) for r in row)\n",
    "                            params.append(\n",
    "                                [id_num] + row + [max_simulation_time, warmup, cooldown]\n",
    "                            )"
   ]
  },
  {
   "cell_type": "code",
   "execution_count": 20,
   "id": "1c896a55",
   "metadata": {},
   "outputs": [],
   "source": [
    "full = len(params)\n",
    "definitely_does = len([p for p in params if (p[1] + p[2] < p[7] * min(p[3], p[4]))])\n",
    "definitely_doesnt = len([p for p in params if (p[1] + p[2] > p[7] * max(p[3], p[4]))])"
   ]
  },
  {
   "cell_type": "code",
   "execution_count": 21,
   "id": "e1f9262a",
   "metadata": {},
   "outputs": [
    {
     "data": {
      "text/plain": [
       "33.2"
      ]
     },
     "execution_count": 21,
     "metadata": {},
     "output_type": "execute_result"
    }
   ],
   "source": [
    "(definitely_does / full) * 100"
   ]
  },
  {
   "cell_type": "code",
   "execution_count": 22,
   "id": "8de4fcd9",
   "metadata": {},
   "outputs": [
    {
     "data": {
      "text/plain": [
       "30.04"
      ]
     },
     "execution_count": 22,
     "metadata": {},
     "output_type": "execute_result"
    }
   ],
   "source": [
    "(definitely_doesnt / full) * 100"
   ]
  },
  {
   "cell_type": "code",
   "execution_count": 23,
   "id": "3f055fc9",
   "metadata": {},
   "outputs": [
    {
     "data": {
      "text/plain": [
       "36.76"
      ]
     },
     "execution_count": 23,
     "metadata": {},
     "output_type": "execute_result"
    }
   ],
   "source": [
    "((full - definitely_does - definitely_doesnt) / full) * 100"
   ]
  },
  {
   "cell_type": "code",
   "execution_count": 24,
   "id": "0160f738",
   "metadata": {},
   "outputs": [],
   "source": [
    "params_to_use = [p for p in params if not (p[1] + p[2] > p[7] * max(p[3], p[4]))]"
   ]
  },
  {
   "cell_type": "code",
   "execution_count": 25,
   "id": "719a5e64",
   "metadata": {},
   "outputs": [
    {
     "data": {
      "text/plain": [
       "43725"
      ]
     },
     "execution_count": 25,
     "metadata": {},
     "output_type": "execute_result"
    }
   ],
   "source": [
    "len(params_to_use)"
   ]
  },
  {
   "cell_type": "code",
   "execution_count": 10,
   "id": "84588abe",
   "metadata": {},
   "outputs": [],
   "source": [
    "experiments = \"\"\n",
    "for param_set in params_to_use:\n",
    "    id_num, l1, l2, m1, m2, t1, t2, c, max_simulation_time, warmup, cooldown = param_set\n",
    "    experiments += f\"python write_row_simulation.py {id_num} {l1} {l2} {m1} {m2} {t1} {t2} {c} {max_simulation_time} {warmup} {cooldown}\\n\""
   ]
  },
  {
   "cell_type": "code",
   "execution_count": 11,
   "id": "66913bfd",
   "metadata": {},
   "outputs": [],
   "source": [
    "with open(\"simulation_2class.txt\", \"w\") as f:\n",
    "    f.write(experiments)"
   ]
  },
  {
   "cell_type": "code",
   "execution_count": 15,
   "id": "4111f679",
   "metadata": {},
   "outputs": [],
   "source": [
    "import pandas as pd"
   ]
  },
  {
   "cell_type": "code",
   "execution_count": 16,
   "id": "24f6629c",
   "metadata": {},
   "outputs": [
    {
     "data": {
      "text/html": [
       "<div>\n",
       "<style scoped>\n",
       "    .dataframe tbody tr th:only-of-type {\n",
       "        vertical-align: middle;\n",
       "    }\n",
       "\n",
       "    .dataframe tbody tr th {\n",
       "        vertical-align: top;\n",
       "    }\n",
       "\n",
       "    .dataframe thead th {\n",
       "        text-align: right;\n",
       "    }\n",
       "</style>\n",
       "<table border=\"1\" class=\"dataframe\">\n",
       "  <thead>\n",
       "    <tr style=\"text-align: right;\">\n",
       "      <th></th>\n",
       "      <th>id</th>\n",
       "      <th>bound</th>\n",
       "      <th>reasonable_ratio</th>\n",
       "      <th>epsilon</th>\n",
       "      <th>num_classes</th>\n",
       "      <th>l1</th>\n",
       "      <th>l2</th>\n",
       "      <th>m1</th>\n",
       "      <th>m2</th>\n",
       "      <th>t12</th>\n",
       "      <th>...</th>\n",
       "      <th>variance_waiting_1</th>\n",
       "      <th>variance_waiting_2</th>\n",
       "      <th>variance_waiting</th>\n",
       "      <th>empty_probs_1</th>\n",
       "      <th>empty_probs_2</th>\n",
       "      <th>empty_probs</th>\n",
       "      <th>mean_sojourn_times_1</th>\n",
       "      <th>mean_sojourn_times_2</th>\n",
       "      <th>mean_sojourn_times</th>\n",
       "      <th>max_hitting_probs</th>\n",
       "    </tr>\n",
       "  </thead>\n",
       "  <tbody>\n",
       "    <tr>\n",
       "      <th>0</th>\n",
       "      <td>aaaa</td>\n",
       "      <td>10</td>\n",
       "      <td>0.25</td>\n",
       "      <td>0.01</td>\n",
       "      <td>2</td>\n",
       "      <td>1.0</td>\n",
       "      <td>1.0</td>\n",
       "      <td>2.0</td>\n",
       "      <td>1.0</td>\n",
       "      <td>1.0</td>\n",
       "      <td>...</td>\n",
       "      <td>6.543528</td>\n",
       "      <td>7.164132</td>\n",
       "      <td>21.681478</td>\n",
       "      <td>0.104498</td>\n",
       "      <td>0.060684</td>\n",
       "      <td>0.027112</td>\n",
       "      <td>4.203456</td>\n",
       "      <td>5.279816</td>\n",
       "      <td>4.741636</td>\n",
       "      <td>0.002279</td>\n",
       "    </tr>\n",
       "  </tbody>\n",
       "</table>\n",
       "<p>1 rows × 31 columns</p>\n",
       "</div>"
      ],
      "text/plain": [
       "     id  bound  reasonable_ratio  epsilon  num_classes   l1   l2   m1   m2  \\\n",
       "0  aaaa     10              0.25     0.01            2  1.0  1.0  2.0  1.0   \n",
       "\n",
       "   t12  ...  variance_waiting_1  variance_waiting_2  variance_waiting  \\\n",
       "0  1.0  ...            6.543528            7.164132         21.681478   \n",
       "\n",
       "   empty_probs_1  empty_probs_2  empty_probs  mean_sojourn_times_1  \\\n",
       "0       0.104498       0.060684     0.027112              4.203456   \n",
       "\n",
       "   mean_sojourn_times_2  mean_sojourn_times  max_hitting_probs  \n",
       "0              5.279816            4.741636           0.002279  \n",
       "\n",
       "[1 rows x 31 columns]"
      ]
     },
     "execution_count": 16,
     "metadata": {},
     "output_type": "execute_result"
    }
   ],
   "source": [
    "pd.read_csv(\"test2.csv\")"
   ]
  },
  {
   "cell_type": "code",
   "execution_count": 32,
   "id": "df5c304d",
   "metadata": {},
   "outputs": [
    {
     "data": {
      "text/plain": [
       "15.182291666666666"
      ]
     },
     "execution_count": 32,
     "metadata": {},
     "output_type": "execute_result"
    }
   ],
   "source": [
    "(43725 * 15) / (60 * 24 * 30)"
   ]
  },
  {
   "cell_type": "code",
   "execution_count": null,
   "id": "36398545",
   "metadata": {},
   "outputs": [],
   "source": []
  }
 ],
 "metadata": {
  "kernelspec": {
   "display_name": "Python 3 (ipykernel)",
   "language": "python",
   "name": "python3"
  },
  "language_info": {
   "codemirror_mode": {
    "name": "ipython",
    "version": 3
   },
   "file_extension": ".py",
   "mimetype": "text/x-python",
   "name": "python",
   "nbconvert_exporter": "python",
   "pygments_lexer": "ipython3",
   "version": "3.7.3"
  }
 },
 "nbformat": 4,
 "nbformat_minor": 5
}
