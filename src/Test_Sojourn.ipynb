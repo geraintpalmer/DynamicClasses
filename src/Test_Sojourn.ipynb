{
 "cells": [
  {
   "cell_type": "code",
   "execution_count": 1,
   "metadata": {},
   "outputs": [],
   "source": [
    "import models"
   ]
  },
  {
   "cell_type": "code",
   "execution_count": 2,
   "metadata": {},
   "outputs": [
    {
     "name": "stderr",
     "output_type": "stream",
     "text": [
      "100%|██████████| 20000.0/20000 [00:09<00:00, 2026.70it/s]           \n"
     ]
    },
    {
     "data": {
      "text/plain": [
       "{'Markov Chain': [0.18902347102776995, 0.3986866457192421],\n",
       " 'Simulation': [0.19387962688300975, 0.4096967517870087]}"
      ]
     },
     "execution_count": 2,
     "metadata": {},
     "output_type": "execute_result"
    }
   ],
   "source": [
    "models.compare_mc_to_sim_sojourn(\n",
    "    num_classes=2,\n",
    "    num_servers=1,\n",
    "    arrival_rates=[4, 5],\n",
    "    service_rates=[12, 13],\n",
    "    thetas=[[None, 2], [1, None]],\n",
    "    bound=15,\n",
    "    max_simulation_time=20000,\n",
    "    warmup=200,\n",
    ")"
   ]
  },
  {
   "cell_type": "code",
   "execution_count": 3,
   "metadata": {},
   "outputs": [
    {
     "name": "stderr",
     "output_type": "stream",
     "text": [
      "100%|██████████| 20000.0/20000 [00:09<00:00, 2172.29it/s]           \n"
     ]
    },
    {
     "data": {
      "text/plain": [
       "{'Markov Chain': [0.18089660366279464, 0.27335350278687726],\n",
       " 'Simulation': [0.18272704820161545, 0.27482538387242944]}"
      ]
     },
     "execution_count": 3,
     "metadata": {},
     "output_type": "execute_result"
    }
   ],
   "source": [
    "models.compare_mc_to_sim_sojourn(\n",
    "    num_classes=2,\n",
    "    num_servers=1,\n",
    "    arrival_rates=[3, 5],\n",
    "    service_rates=[12, 13],\n",
    "    thetas=[[None, 2], [4, None]],\n",
    "    bound=15,\n",
    "    max_simulation_time=20000,\n",
    "    warmup=200,\n",
    ")"
   ]
  },
  {
   "cell_type": "code",
   "execution_count": 4,
   "metadata": {},
   "outputs": [
    {
     "name": "stderr",
     "output_type": "stream",
     "text": [
      "100%|██████████| 20000.0/20000 [00:02<00:00, 7289.59it/s]           \n"
     ]
    },
    {
     "data": {
      "text/plain": [
       "{'Markov Chain': [0.1204092506720846, 0.1529471254170382, 0.19299607180496842],\n",
       " 'Simulation': [0.12068273808580142, 0.154405733903177, 0.19563222490353108]}"
      ]
     },
     "execution_count": 4,
     "metadata": {},
     "output_type": "execute_result"
    }
   ],
   "source": [
    "models.compare_mc_to_sim_sojourn(\n",
    "    num_classes=3,\n",
    "    num_servers=1,\n",
    "    arrival_rates=[0.5, 1.3, 0.6],\n",
    "    service_rates=[9, 9, 8],\n",
    "    thetas=[[None, 1, 0.6], [1.1, None, 0.7], [1.2, 1, None]],\n",
    "    bound=8,\n",
    "    max_simulation_time=20000,\n",
    "    warmup=200,\n",
    ")"
   ]
  },
  {
   "cell_type": "code",
   "execution_count": 5,
   "metadata": {},
   "outputs": [
    {
     "name": "stderr",
     "output_type": "stream",
     "text": [
      "100%|██████████| 50000.0/50000 [00:16<00:00, 2950.46it/s]           \n"
     ]
    },
    {
     "data": {
      "text/plain": [
       "{'Markov Chain': [0.1794581385915189, 0.21367804897072376],\n",
       " 'Simulation': [0.17848945316697193, 0.21354310076383318]}"
      ]
     },
     "execution_count": 5,
     "metadata": {},
     "output_type": "execute_result"
    }
   ],
   "source": [
    "models.compare_mc_to_sim_sojourn(\n",
    "    num_classes=2,\n",
    "    num_servers=2,\n",
    "    arrival_rates=[3, 4],\n",
    "    service_rates=[6.5, 7.5],\n",
    "    thetas=[[None, 2], [4, None]],\n",
    "    bound=15,\n",
    "    max_simulation_time=50000,\n",
    "    warmup=200,\n",
    ")"
   ]
  },
  {
   "cell_type": "code",
   "execution_count": 6,
   "metadata": {},
   "outputs": [
    {
     "name": "stderr",
     "output_type": "stream",
     "text": [
      "100%|██████████| 20000.0/20000 [00:03<00:00, 6636.28it/s]           \n"
     ]
    },
    {
     "data": {
      "text/plain": [
       "{'Markov Chain': [0.352441377466164, 0.5031135932339846, 0.6393170884752223],\n",
       " 'Simulation': [0.35245868593884844, 0.5075393946421101, 0.6364805806806387]}"
      ]
     },
     "execution_count": 6,
     "metadata": {},
     "output_type": "execute_result"
    }
   ],
   "source": [
    "models.compare_mc_to_sim_sojourn(\n",
    "    num_classes=3,\n",
    "    num_servers=2,\n",
    "    arrival_rates=[1, 0.8, 0.5],\n",
    "    service_rates=[3, 2.5, 2],\n",
    "    thetas=[[None, 1, 0.5], [0.5, None, 0.5], [1, 0.7, None]],\n",
    "    bound=8,\n",
    "    max_simulation_time=20000,\n",
    "    warmup=200,\n",
    ")"
   ]
  },
  {
   "cell_type": "code",
   "execution_count": null,
   "metadata": {},
   "outputs": [],
   "source": []
  }
 ],
 "metadata": {
  "kernelspec": {
   "display_name": "Python 3.8.10 ('env': venv)",
   "language": "python",
   "name": "python3"
  },
  "language_info": {
   "codemirror_mode": {
    "name": "ipython",
    "version": 3
   },
   "file_extension": ".py",
   "mimetype": "text/x-python",
   "name": "python",
   "nbconvert_exporter": "python",
   "pygments_lexer": "ipython3",
   "version": "3.8.10"
  },
  "vscode": {
   "interpreter": {
    "hash": "02a78148e6ffed94e5a70ad3df27e7de8ba6500b2b2f5fe954a47d4f3d4adda1"
   }
  }
 },
 "nbformat": 4,
 "nbformat_minor": 2
}
