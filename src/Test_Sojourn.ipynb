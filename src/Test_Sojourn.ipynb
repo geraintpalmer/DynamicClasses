{
 "cells": [
  {
   "cell_type": "code",
   "execution_count": 1,
   "metadata": {},
   "outputs": [],
   "source": [
    "import models"
   ]
  },
  {
   "cell_type": "code",
   "execution_count": 2,
   "metadata": {},
   "outputs": [
    {
     "name": "stderr",
     "output_type": "stream",
     "text": [
      "100%|██████████| 20000.0/20000 [00:09<00:00, 2083.16it/s]           \n"
     ]
    },
    {
     "data": {
      "text/plain": [
       "{'Markov Chain': [0.18902347103656778, 0.3986866457353476],\n",
       " 'Simulation': [0.2139906106328069, 0.43180693078664584]}"
      ]
     },
     "execution_count": 2,
     "metadata": {},
     "output_type": "execute_result"
    }
   ],
   "source": [
    "models.compare_mc_to_sim_sojourn(\n",
    "    num_classes=2,\n",
    "    num_servers=1,\n",
    "    arrival_rates=[4, 5],\n",
    "    service_rates=[12, 13],\n",
    "    thetas=[[None, 2], [1, None]],\n",
    "    infty=15,\n",
    "    max_simulation_time=20000,\n",
    "    warmup=200,\n",
    ")"
   ]
  },
  {
   "cell_type": "code",
   "execution_count": 3,
   "metadata": {},
   "outputs": [
    {
     "name": "stderr",
     "output_type": "stream",
     "text": [
      "100%|██████████| 20000.0/20000 [00:09<00:00, 2132.14it/s]           \n"
     ]
    },
    {
     "data": {
      "text/plain": [
       "{'Markov Chain': [0.18089660378794423, 0.273353502928004],\n",
       " 'Simulation': [0.1881818649569027, 0.2757745006625412]}"
      ]
     },
     "execution_count": 3,
     "metadata": {},
     "output_type": "execute_result"
    }
   ],
   "source": [
    "models.compare_mc_to_sim_sojourn(\n",
    "    num_classes=2,\n",
    "    num_servers=1,\n",
    "    arrival_rates=[3, 5],\n",
    "    service_rates=[12, 13],\n",
    "    thetas=[[None, 2], [4, None]],\n",
    "    infty=15,\n",
    "    max_simulation_time=20000,\n",
    "    warmup=200,\n",
    ")"
   ]
  },
  {
   "cell_type": "code",
   "execution_count": 4,
   "metadata": {},
   "outputs": [
    {
     "name": "stderr",
     "output_type": "stream",
     "text": [
      "100%|██████████| 20000.0/20000 [00:02<00:00, 7637.23it/s]           \n"
     ]
    },
    {
     "data": {
      "text/plain": [
       "{'Markov Chain': [0.12040925067876722, 0.152947125428153, 0.19299607181584888],\n",
       " 'Simulation': [0.12109439822633372, 0.16720578267160988, 0.2175955150442381]}"
      ]
     },
     "execution_count": 4,
     "metadata": {},
     "output_type": "execute_result"
    }
   ],
   "source": [
    "models.compare_mc_to_sim_sojourn(\n",
    "    num_classes=3,\n",
    "    num_servers=1,\n",
    "    arrival_rates=[0.5, 1.3, 0.6],\n",
    "    service_rates=[9, 9, 8],\n",
    "    thetas=[[None, 1, 0.6], [1.1, None, 0.7], [1.2, 1, None]],\n",
    "    infty=8,\n",
    "    max_simulation_time=20000,\n",
    "    warmup=200,\n",
    ")"
   ]
  },
  {
   "cell_type": "code",
   "execution_count": 5,
   "metadata": {},
   "outputs": [
    {
     "name": "stderr",
     "output_type": "stream",
     "text": [
      "100%|██████████| 50000.0/50000 [00:16<00:00, 3009.76it/s]           \n"
     ]
    },
    {
     "data": {
      "text/plain": [
       "{'Markov Chain': [0.17945813853456621, 0.21367804890250472],\n",
       " 'Simulation': [0.18076029304959032, 0.23395208449181645]}"
      ]
     },
     "execution_count": 5,
     "metadata": {},
     "output_type": "execute_result"
    }
   ],
   "source": [
    "models.compare_mc_to_sim_sojourn(\n",
    "    num_classes=2,\n",
    "    num_servers=2,\n",
    "    arrival_rates=[3, 4],\n",
    "    service_rates=[6.5, 7.5],\n",
    "    thetas=[[None, 2], [4, None]],\n",
    "    infty=15,\n",
    "    max_simulation_time=50000,\n",
    "    warmup=200,\n",
    ")"
   ]
  },
  {
   "cell_type": "code",
   "execution_count": 6,
   "metadata": {},
   "outputs": [
    {
     "name": "stderr",
     "output_type": "stream",
     "text": [
      "100%|██████████| 20000.0/20000 [00:02<00:00, 6742.06it/s]            \n"
     ]
    },
    {
     "data": {
      "text/plain": [
       "{'Markov Chain': [0.3524413774401783, 0.5031135931840708, 0.6393170884346043],\n",
       " 'Simulation': [0.3558629845088024, 0.5817451536558317, 0.7628808054233547]}"
      ]
     },
     "execution_count": 6,
     "metadata": {},
     "output_type": "execute_result"
    }
   ],
   "source": [
    "models.compare_mc_to_sim_sojourn(\n",
    "    num_classes=3,\n",
    "    num_servers=2,\n",
    "    arrival_rates=[1, 0.8, 0.5],\n",
    "    service_rates=[3, 2.5, 2],\n",
    "    thetas=[[None, 1, 0.5], [0.5, None, 0.5], [1, 0.7, None]],\n",
    "    infty=8,\n",
    "    max_simulation_time=20000,\n",
    "    warmup=200,\n",
    ")"
   ]
  },
  {
   "cell_type": "code",
   "execution_count": null,
   "metadata": {},
   "outputs": [],
   "source": []
  }
 ],
 "metadata": {
  "kernelspec": {
   "display_name": "Python 3",
   "language": "python",
   "name": "python3"
  },
  "language_info": {
   "codemirror_mode": {
    "name": "ipython",
    "version": 3
   },
   "file_extension": ".py",
   "mimetype": "text/x-python",
   "name": "python",
   "nbconvert_exporter": "python",
   "pygments_lexer": "ipython3",
   "version": "3.7.3"
  }
 },
 "nbformat": 4,
 "nbformat_minor": 2
}
