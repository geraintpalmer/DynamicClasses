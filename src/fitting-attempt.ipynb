{
 "cells": [
  {
   "cell_type": "code",
   "execution_count": 1,
   "id": "d9985d69",
   "metadata": {},
   "outputs": [],
   "source": [
    "import ciw\n",
    "import scipy.stats\n",
    "import pandas as pd\n",
    "import matplotlib.pyplot as plt\n",
    "import dask"
   ]
  },
  {
   "cell_type": "code",
   "execution_count": 2,
   "id": "09595730",
   "metadata": {},
   "outputs": [],
   "source": [
    "def get_data_from_simulation(Q):\n",
    "    recs = Q.get_all_records()\n",
    "    data = pd.DataFrame(recs)\n",
    "    data = pd.DataFrame(recs)\n",
    "    data = data.sort_values('service_end_date')\n",
    "    data['exit_order'] = data['id_number'].rank()\n",
    "    data = data[['id_number', 'arrival_date', 'service_time', 'exit_order']]\n",
    "    return data"
   ]
  },
  {
   "cell_type": "code",
   "execution_count": 3,
   "id": "e222c91c",
   "metadata": {},
   "outputs": [],
   "source": [
    "def get_kendal_tau(Q, original_data):\n",
    "    new_data = get_data_from_simulation(Q)\n",
    "    tau = scipy.stats.kendalltau(original_data['exit_order'], new_data['exit_order'], variant='c')\n",
    "    return tau.statistic"
   ]
  },
  {
   "cell_type": "code",
   "execution_count": 4,
   "id": "73601204",
   "metadata": {},
   "outputs": [],
   "source": [
    "def get_average_tau(Qs, original_data):\n",
    "    taus = [get_kendal_tau(Q, original_data) for Q in Qs]\n",
    "    return sum(taus) / len(taus)"
   ]
  },
  {
   "cell_type": "markdown",
   "id": "c5bc395b",
   "metadata": {},
   "source": [
    "# Set up 'base' system, that is the system we wish to fit to"
   ]
  },
  {
   "cell_type": "code",
   "execution_count": 5,
   "id": "96343171",
   "metadata": {},
   "outputs": [],
   "source": [
    "def SIRO_proportional(individuals):\n",
    "    n = len(individuals)\n",
    "    denominator = (n * (n + 1)) / 2\n",
    "    probs = [(n - i) / denominator for i in range(n)]\n",
    "    probs.reverse()\n",
    "    return ciw.random_choice(individuals, probs=probs)"
   ]
  },
  {
   "cell_type": "code",
   "execution_count": 6,
   "id": "00a47709",
   "metadata": {},
   "outputs": [],
   "source": [
    "N = ciw.create_network(\n",
    "    arrival_distributions=[ciw.dists.Exponential(9.5)],\n",
    "    service_distributions=[ciw.dists.Deterministic(1/10)],\n",
    "    number_of_servers=[1],\n",
    "    service_disciplines=[SIRO_proportional],\n",
    ")"
   ]
  },
  {
   "cell_type": "code",
   "execution_count": 7,
   "id": "41ee2fea",
   "metadata": {},
   "outputs": [],
   "source": [
    "ciw.seed(0)\n",
    "Q = ciw.Simulation(N)\n",
    "Q.simulate_until_max_time(100)"
   ]
  },
  {
   "cell_type": "code",
   "execution_count": 8,
   "id": "6923af7e",
   "metadata": {},
   "outputs": [],
   "source": [
    "recs = Q.get_all_records()"
   ]
  },
  {
   "cell_type": "code",
   "execution_count": 9,
   "id": "20c9e13b",
   "metadata": {},
   "outputs": [],
   "source": [
    "data = pd.DataFrame(recs)\n",
    "data = data.sort_values('arrival_date')\n",
    "data['exit_order'] = data['exit_date'].rank()\n",
    "data = data[['id_number', 'arrival_date', 'service_time', 'exit_order']]"
   ]
  },
  {
   "cell_type": "code",
   "execution_count": 10,
   "id": "8fdc5158",
   "metadata": {},
   "outputs": [
    {
     "data": {
      "text/html": [
       "<div>\n",
       "<style scoped>\n",
       "    .dataframe tbody tr th:only-of-type {\n",
       "        vertical-align: middle;\n",
       "    }\n",
       "\n",
       "    .dataframe tbody tr th {\n",
       "        vertical-align: top;\n",
       "    }\n",
       "\n",
       "    .dataframe thead th {\n",
       "        text-align: right;\n",
       "    }\n",
       "</style>\n",
       "<table border=\"1\" class=\"dataframe\">\n",
       "  <thead>\n",
       "    <tr style=\"text-align: right;\">\n",
       "      <th></th>\n",
       "      <th>id_number</th>\n",
       "      <th>arrival_date</th>\n",
       "      <th>service_time</th>\n",
       "      <th>exit_order</th>\n",
       "    </tr>\n",
       "  </thead>\n",
       "  <tbody>\n",
       "    <tr>\n",
       "      <th>0</th>\n",
       "      <td>1</td>\n",
       "      <td>0.195853</td>\n",
       "      <td>0.1</td>\n",
       "      <td>1.0</td>\n",
       "    </tr>\n",
       "    <tr>\n",
       "      <th>1</th>\n",
       "      <td>2</td>\n",
       "      <td>0.345183</td>\n",
       "      <td>0.1</td>\n",
       "      <td>2.0</td>\n",
       "    </tr>\n",
       "    <tr>\n",
       "      <th>3</th>\n",
       "      <td>3</td>\n",
       "      <td>0.402626</td>\n",
       "      <td>0.1</td>\n",
       "      <td>4.0</td>\n",
       "    </tr>\n",
       "    <tr>\n",
       "      <th>2</th>\n",
       "      <td>4</td>\n",
       "      <td>0.434168</td>\n",
       "      <td>0.1</td>\n",
       "      <td>3.0</td>\n",
       "    </tr>\n",
       "    <tr>\n",
       "      <th>4</th>\n",
       "      <td>5</td>\n",
       "      <td>0.509531</td>\n",
       "      <td>0.1</td>\n",
       "      <td>5.0</td>\n",
       "    </tr>\n",
       "    <tr>\n",
       "      <th>...</th>\n",
       "      <td>...</td>\n",
       "      <td>...</td>\n",
       "      <td>...</td>\n",
       "      <td>...</td>\n",
       "    </tr>\n",
       "    <tr>\n",
       "      <th>936</th>\n",
       "      <td>938</td>\n",
       "      <td>99.459491</td>\n",
       "      <td>0.1</td>\n",
       "      <td>937.0</td>\n",
       "    </tr>\n",
       "    <tr>\n",
       "      <th>937</th>\n",
       "      <td>939</td>\n",
       "      <td>99.555195</td>\n",
       "      <td>0.1</td>\n",
       "      <td>938.0</td>\n",
       "    </tr>\n",
       "    <tr>\n",
       "      <th>939</th>\n",
       "      <td>940</td>\n",
       "      <td>99.612280</td>\n",
       "      <td>0.1</td>\n",
       "      <td>940.0</td>\n",
       "    </tr>\n",
       "    <tr>\n",
       "      <th>938</th>\n",
       "      <td>941</td>\n",
       "      <td>99.643051</td>\n",
       "      <td>0.1</td>\n",
       "      <td>939.0</td>\n",
       "    </tr>\n",
       "    <tr>\n",
       "      <th>940</th>\n",
       "      <td>943</td>\n",
       "      <td>99.753305</td>\n",
       "      <td>0.1</td>\n",
       "      <td>941.0</td>\n",
       "    </tr>\n",
       "  </tbody>\n",
       "</table>\n",
       "<p>941 rows × 4 columns</p>\n",
       "</div>"
      ],
      "text/plain": [
       "     id_number  arrival_date  service_time  exit_order\n",
       "0            1      0.195853           0.1         1.0\n",
       "1            2      0.345183           0.1         2.0\n",
       "3            3      0.402626           0.1         4.0\n",
       "2            4      0.434168           0.1         3.0\n",
       "4            5      0.509531           0.1         5.0\n",
       "..         ...           ...           ...         ...\n",
       "936        938     99.459491           0.1       937.0\n",
       "937        939     99.555195           0.1       938.0\n",
       "939        940     99.612280           0.1       940.0\n",
       "938        941     99.643051           0.1       939.0\n",
       "940        943     99.753305           0.1       941.0\n",
       "\n",
       "[941 rows x 4 columns]"
      ]
     },
     "execution_count": 10,
     "metadata": {},
     "output_type": "execute_result"
    }
   ],
   "source": [
    "data"
   ]
  },
  {
   "cell_type": "markdown",
   "id": "2cf43128",
   "metadata": {},
   "source": [
    "# Alternate base system, for comparison"
   ]
  },
  {
   "cell_type": "code",
   "execution_count": 11,
   "id": "673261d3",
   "metadata": {},
   "outputs": [],
   "source": [
    "N = ciw.create_network(\n",
    "    arrival_distributions={\n",
    "        'C0': [ciw.dists.Exponential(10)],\n",
    "        'C1': [None]},\n",
    "    service_distributions={\n",
    "        'C0': [ciw.dists.Deterministic(1/10.2)],\n",
    "        'C1': [ciw.dists.Deterministic(1/10.2)]},\n",
    "    number_of_servers=[1],\n",
    "    class_change_time_distributions={\n",
    "        'C0': {'C1': ciw.dists.Exponential(3)},\n",
    "        'C1': {'C0': ciw.dists.Exponential(8)}},\n",
    "    priority_classes={\n",
    "        'C0': 1,\n",
    "        'C1': 0}\n",
    ")"
   ]
  },
  {
   "cell_type": "code",
   "execution_count": 12,
   "id": "13171c15",
   "metadata": {},
   "outputs": [],
   "source": [
    "ciw.seed(0)\n",
    "Q = ciw.Simulation(N)\n",
    "Q.simulate_until_max_time(250)"
   ]
  },
  {
   "cell_type": "code",
   "execution_count": 13,
   "id": "f2075568",
   "metadata": {},
   "outputs": [],
   "source": [
    "recs = Q.get_all_records()"
   ]
  },
  {
   "cell_type": "code",
   "execution_count": 14,
   "id": "40c95a5c",
   "metadata": {},
   "outputs": [],
   "source": [
    "data = pd.DataFrame(recs)\n",
    "data = data.sort_values('arrival_date')\n",
    "data['exit_order'] = data['exit_date'].rank()\n",
    "data = data[['id_number', 'arrival_date', 'service_time', 'exit_order']]"
   ]
  },
  {
   "cell_type": "code",
   "execution_count": 15,
   "id": "a1ad4c8a",
   "metadata": {},
   "outputs": [
    {
     "data": {
      "text/html": [
       "<div>\n",
       "<style scoped>\n",
       "    .dataframe tbody tr th:only-of-type {\n",
       "        vertical-align: middle;\n",
       "    }\n",
       "\n",
       "    .dataframe tbody tr th {\n",
       "        vertical-align: top;\n",
       "    }\n",
       "\n",
       "    .dataframe thead th {\n",
       "        text-align: right;\n",
       "    }\n",
       "</style>\n",
       "<table border=\"1\" class=\"dataframe\">\n",
       "  <thead>\n",
       "    <tr style=\"text-align: right;\">\n",
       "      <th></th>\n",
       "      <th>id_number</th>\n",
       "      <th>arrival_date</th>\n",
       "      <th>service_time</th>\n",
       "      <th>exit_order</th>\n",
       "    </tr>\n",
       "  </thead>\n",
       "  <tbody>\n",
       "    <tr>\n",
       "      <th>0</th>\n",
       "      <td>1</td>\n",
       "      <td>0.186061</td>\n",
       "      <td>0.098039</td>\n",
       "      <td>1.0</td>\n",
       "    </tr>\n",
       "    <tr>\n",
       "      <th>1</th>\n",
       "      <td>2</td>\n",
       "      <td>0.240632</td>\n",
       "      <td>0.098039</td>\n",
       "      <td>2.0</td>\n",
       "    </tr>\n",
       "    <tr>\n",
       "      <th>2</th>\n",
       "      <td>3</td>\n",
       "      <td>0.312228</td>\n",
       "      <td>0.098039</td>\n",
       "      <td>3.0</td>\n",
       "    </tr>\n",
       "    <tr>\n",
       "      <th>3</th>\n",
       "      <td>4</td>\n",
       "      <td>0.465382</td>\n",
       "      <td>0.098039</td>\n",
       "      <td>4.0</td>\n",
       "    </tr>\n",
       "    <tr>\n",
       "      <th>4</th>\n",
       "      <td>5</td>\n",
       "      <td>0.530122</td>\n",
       "      <td>0.098039</td>\n",
       "      <td>5.0</td>\n",
       "    </tr>\n",
       "    <tr>\n",
       "      <th>...</th>\n",
       "      <td>...</td>\n",
       "      <td>...</td>\n",
       "      <td>...</td>\n",
       "      <td>...</td>\n",
       "    </tr>\n",
       "    <tr>\n",
       "      <th>2496</th>\n",
       "      <td>2544</td>\n",
       "      <td>246.945590</td>\n",
       "      <td>0.098039</td>\n",
       "      <td>2497.0</td>\n",
       "    </tr>\n",
       "    <tr>\n",
       "      <th>2492</th>\n",
       "      <td>2547</td>\n",
       "      <td>247.134485</td>\n",
       "      <td>0.098039</td>\n",
       "      <td>2493.0</td>\n",
       "    </tr>\n",
       "    <tr>\n",
       "      <th>2506</th>\n",
       "      <td>2559</td>\n",
       "      <td>248.416437</td>\n",
       "      <td>0.098039</td>\n",
       "      <td>2507.0</td>\n",
       "    </tr>\n",
       "    <tr>\n",
       "      <th>2499</th>\n",
       "      <td>2560</td>\n",
       "      <td>248.586394</td>\n",
       "      <td>0.098039</td>\n",
       "      <td>2500.0</td>\n",
       "    </tr>\n",
       "    <tr>\n",
       "      <th>2508</th>\n",
       "      <td>2564</td>\n",
       "      <td>249.132471</td>\n",
       "      <td>0.098039</td>\n",
       "      <td>2509.0</td>\n",
       "    </tr>\n",
       "  </tbody>\n",
       "</table>\n",
       "<p>2510 rows × 4 columns</p>\n",
       "</div>"
      ],
      "text/plain": [
       "      id_number  arrival_date  service_time  exit_order\n",
       "0             1      0.186061      0.098039         1.0\n",
       "1             2      0.240632      0.098039         2.0\n",
       "2             3      0.312228      0.098039         3.0\n",
       "3             4      0.465382      0.098039         4.0\n",
       "4             5      0.530122      0.098039         5.0\n",
       "...         ...           ...           ...         ...\n",
       "2496       2544    246.945590      0.098039      2497.0\n",
       "2492       2547    247.134485      0.098039      2493.0\n",
       "2506       2559    248.416437      0.098039      2507.0\n",
       "2499       2560    248.586394      0.098039      2500.0\n",
       "2508       2564    249.132471      0.098039      2509.0\n",
       "\n",
       "[2510 rows x 4 columns]"
      ]
     },
     "execution_count": 15,
     "metadata": {},
     "output_type": "execute_result"
    }
   ],
   "source": [
    "data"
   ]
  },
  {
   "cell_type": "code",
   "execution_count": 16,
   "id": "a231c092",
   "metadata": {},
   "outputs": [
    {
     "data": {
      "text/plain": [
       "0.027690592750560183"
      ]
     },
     "execution_count": 16,
     "metadata": {},
     "output_type": "execute_result"
    }
   ],
   "source": [
    "1 - scipy.stats.kendalltau(data['id_number'], data['exit_order']).statistic"
   ]
  },
  {
   "cell_type": "markdown",
   "id": "8b599fa4",
   "metadata": {},
   "source": [
    "# Set up"
   ]
  },
  {
   "cell_type": "code",
   "execution_count": 17,
   "id": "ec7708dd",
   "metadata": {},
   "outputs": [],
   "source": [
    "def create_candidate_network(theta_01, theta_10, original_data):\n",
    "    inter_arrivals = list(original_data['arrival_date'].diff().fillna(0))\n",
    "    dist_01 = None\n",
    "    dist_10 = None\n",
    "    if theta_01 > 0.0:\n",
    "        dist_01 = ciw.dists.Exponential(rate=theta_01)\n",
    "    if theta_10 > 0.0:\n",
    "        dist_10 = ciw.dists.Exponential(rate=theta_10)\n",
    "    N = ciw.create_network(\n",
    "        arrival_distributions={\n",
    "            'C0': [ciw.dists.Sequential(inter_arrivals)],\n",
    "            'C1': [None]},\n",
    "        service_distributions={\n",
    "            'C0': [ciw.dists.Deterministic(1/5)],\n",
    "            'C1': [ciw.dists.Deterministic(1/5)]},\n",
    "        number_of_servers=[1],\n",
    "        class_change_time_distributions={\n",
    "            'C0': {'C1': dist_01},\n",
    "            'C1': {'C0': dist_10}},\n",
    "        priority_classes={\n",
    "            'C0': 1,\n",
    "            'C1': 0}\n",
    "    )\n",
    "    return N"
   ]
  },
  {
   "cell_type": "code",
   "execution_count": 18,
   "id": "2bb4afff",
   "metadata": {},
   "outputs": [],
   "source": [
    "def run_one_trial(N, n_custs, seed):\n",
    "    ciw.seed(seed)\n",
    "    Q = ciw.Simulation(N)\n",
    "    Q.simulate_until_max_customers(n_custs)\n",
    "    return Q"
   ]
  },
  {
   "cell_type": "code",
   "execution_count": 19,
   "id": "6578ab94",
   "metadata": {},
   "outputs": [],
   "source": [
    "def run_trials(theta_01, theta_10, original_data, n_trials):\n",
    "    n_custs = len(original_data)\n",
    "    Qs = []\n",
    "    N = create_candidate_network(theta_01, theta_10, original_data)\n",
    "    \n",
    "    tasks = [dask.delayed(run_one_trial)(N=N, n_custs=n_custs, seed=seed) for seed in range(n_trials)]\n",
    "    Qs = dask.compute(*tasks, num_workers=8)\n",
    "    return Qs"
   ]
  },
  {
   "cell_type": "code",
   "execution_count": 20,
   "id": "0a645078",
   "metadata": {},
   "outputs": [],
   "source": [
    "def evaluate(theta, original_data=data):\n",
    "    theta_01 = theta[0]\n",
    "    theta_10 = theta[1]\n",
    "    Qs = run_trials(theta_01=theta_10, theta_10=theta_10, original_data=original_data, n_trials=16)\n",
    "    average_tau = get_average_tau(Qs, original_data)\n",
    "    return 1 - average_tau"
   ]
  },
  {
   "cell_type": "code",
   "execution_count": 21,
   "id": "af292b51",
   "metadata": {},
   "outputs": [
    {
     "data": {
      "text/plain": [
       "0.02769059275055996"
      ]
     },
     "execution_count": 21,
     "metadata": {},
     "output_type": "execute_result"
    }
   ],
   "source": [
    "evaluate(theta=[0, 0], original_data=data)"
   ]
  },
  {
   "cell_type": "markdown",
   "id": "08207cb6",
   "metadata": {},
   "source": [
    "# Try to fit"
   ]
  },
  {
   "cell_type": "code",
   "execution_count": 22,
   "id": "273b7dcc",
   "metadata": {},
   "outputs": [],
   "source": [
    "import nevergrad as ng"
   ]
  },
  {
   "cell_type": "code",
   "execution_count": null,
   "id": "74da2b40",
   "metadata": {},
   "outputs": [],
   "source": [
    "# optimization on x as an array of shape (2,)\n",
    "instrum = ng.p.Instrumentation(\n",
    "    ng.p.Array(shape=(2,), lower=0),\n",
    ")\n",
    "optimizer = ng.optimizers.NGOpt(parametrization=instrum, budget=50, num_workers=1)\n",
    "optimizer.register_callback(\"tell\", ng.callbacks.ProgressBar())\n",
    "recommendation = optimizer.minimize(evaluate)  # best value\n",
    "print(recommendation.value)"
   ]
  },
  {
   "cell_type": "code",
   "execution_count": null,
   "id": "290c2e8b",
   "metadata": {},
   "outputs": [
    {
     "name": "stdout",
     "output_type": "stream",
     "text": [
      "ERROR! Session/line number was not unique in database. History logging moved to new session 3800\n"
     ]
    },
    {
     "name": "stderr",
     "output_type": "stream",
     "text": [
      "Custom TB Handler failed, unregistering\n"
     ]
    }
   ],
   "source": [
    "evaluate(recommendation.value[0][0])"
   ]
  },
  {
   "cell_type": "code",
   "execution_count": 23,
   "id": "4479a897",
   "metadata": {},
   "outputs": [
    {
     "name": "stdout",
     "output_type": "stream",
     "text": [
      "ERROR! Session/line number was not unique in database. History logging moved to new session 3801\n"
     ]
    },
    {
     "name": "stderr",
     "output_type": "stream",
     "text": [
      "\n",
      "KeyboardInterrupt\n",
      "\n"
     ]
    }
   ],
   "source": [
    "evaluate([2, 5])"
   ]
  },
  {
   "cell_type": "code",
   "execution_count": null,
   "id": "6f95b74e",
   "metadata": {},
   "outputs": [],
   "source": [
    "plt.plot(\n",
    "    [r[0] for r in optimizer.optim_curve],\n",
    "    [r[1] for r in optimizer.optim_curve]\n",
    ")"
   ]
  },
  {
   "cell_type": "code",
   "execution_count": null,
   "id": "a0bb6532",
   "metadata": {},
   "outputs": [],
   "source": [
    "plt.plot([r.mean for r in list(optimizer.archive.values())])"
   ]
  },
  {
   "cell_type": "code",
   "execution_count": null,
   "id": "e46da386",
   "metadata": {},
   "outputs": [],
   "source": []
  }
 ],
 "metadata": {
  "kernelspec": {
   "display_name": "Python 3 (ipykernel)",
   "language": "python",
   "name": "python3"
  },
  "language_info": {
   "codemirror_mode": {
    "name": "ipython",
    "version": 3
   },
   "file_extension": ".py",
   "mimetype": "text/x-python",
   "name": "python",
   "nbconvert_exporter": "python",
   "pygments_lexer": "ipython3",
   "version": "3.10.9"
  }
 },
 "nbformat": 4,
 "nbformat_minor": 5
}
