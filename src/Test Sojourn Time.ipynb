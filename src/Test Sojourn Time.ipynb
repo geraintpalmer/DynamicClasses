{
 "cells": [
  {
   "cell_type": "code",
   "execution_count": 1,
   "metadata": {},
   "outputs": [],
   "source": [
    "import models\n",
    "import matplotlib.pyplot as plt\n",
    "plt.style.use('seaborn-whitegrid')"
   ]
  },
  {
   "cell_type": "markdown",
   "metadata": {},
   "source": [
    "# Test for 2 classes (more likely to transition to hgiher class)"
   ]
  },
  {
   "cell_type": "code",
   "execution_count": 2,
   "metadata": {},
   "outputs": [],
   "source": [
    "M = models.MarkovChain(\n",
    "    number_of_servers=1,\n",
    "    arrival_rates=[2.5, 4.5],\n",
    "    service_rates=[11, 12], \n",
    "    class_change_rate_matrix=[\n",
    "        [None, 1],\n",
    "        [4, None]\n",
    "    ],\n",
    "    inf=12,\n",
    "    sojourn=True\n",
    ")"
   ]
  },
  {
   "cell_type": "code",
   "execution_count": 3,
   "metadata": {},
   "outputs": [
    {
     "name": "stderr",
     "output_type": "stream",
     "text": [
      "100%|██████████| 50000.0/50000 [00:21<00:00, 2277.65it/s]           \n"
     ]
    }
   ],
   "source": [
    "S = models.Simulation(\n",
    "    number_of_servers=1,\n",
    "    arrival_rates=[2.5, 4.5],\n",
    "    service_rates=[11, 12], \n",
    "    class_change_rate_matrix=[\n",
    "        [None, 1],\n",
    "        [4, None]\n",
    "    ],\n",
    "    preempt=True,\n",
    "    max_simulation_time=50000,\n",
    "    warmup=200\n",
    ")"
   ]
  },
  {
   "cell_type": "code",
   "execution_count": 4,
   "metadata": {},
   "outputs": [
    {
     "data": {
      "text/plain": [
       "{0: 0.17017557168354952, 1: 0.29547852923907625}"
      ]
     },
     "execution_count": 4,
     "metadata": {},
     "output_type": "execute_result"
    }
   ],
   "source": [
    "M.mean_sojourn_times_by_class"
   ]
  },
  {
   "cell_type": "code",
   "execution_count": 5,
   "metadata": {},
   "outputs": [
    {
     "data": {
      "text/plain": [
       "{0: 0.17966950088414338, 1: 0.26983555576573287}"
      ]
     },
     "execution_count": 5,
     "metadata": {},
     "output_type": "execute_result"
    }
   ],
   "source": [
    "S.mean_sojourn_times_by_class"
   ]
  },
  {
   "cell_type": "code",
   "execution_count": null,
   "metadata": {},
   "outputs": [],
   "source": []
  }
 ],
 "metadata": {
  "kernelspec": {
   "display_name": "Python 3",
   "language": "python",
   "name": "python3"
  },
  "language_info": {
   "codemirror_mode": {
    "name": "ipython",
    "version": 3
   },
   "file_extension": ".py",
   "mimetype": "text/x-python",
   "name": "python",
   "nbconvert_exporter": "python",
   "pygments_lexer": "ipython3",
   "version": "3.7.3"
  }
 },
 "nbformat": 4,
 "nbformat_minor": 2
}
