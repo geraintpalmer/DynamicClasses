{
 "cells": [
  {
   "cell_type": "code",
   "execution_count": 1,
   "metadata": {},
   "outputs": [],
   "source": [
    "import models\n",
    "import matplotlib.pyplot as plt\n",
    "\n",
    "plt.style.use(\"seaborn-whitegrid\")"
   ]
  },
  {
   "cell_type": "markdown",
   "metadata": {},
   "source": [
    "# Test for 2 classes (more likely to transition to hgiher class)"
   ]
  },
  {
   "cell_type": "code",
   "execution_count": 2,
   "metadata": {},
   "outputs": [],
   "source": [
    "M = models.MarkovChain(\n",
    "    number_of_servers=1,\n",
    "    arrival_rates=[4, 5],\n",
    "    service_rates=[12, 13],\n",
    "    class_change_rate_matrix=[[None, 2], [1, None]],\n",
    "    inf=15,\n",
    "    sojourn=True,\n",
    ")"
   ]
  },
  {
   "cell_type": "code",
   "execution_count": 3,
   "metadata": {},
   "outputs": [
    {
     "name": "stderr",
     "output_type": "stream",
     "text": [
      "100%|██████████| 20000.0/20000 [00:08<00:00, 2241.71it/s]           \n"
     ]
    }
   ],
   "source": [
    "S = models.Simulation(\n",
    "    number_of_servers=1,\n",
    "    arrival_rates=[4, 5],\n",
    "    service_rates=[12, 13],\n",
    "    class_change_rate_matrix=[[None, 2], [1, None]],\n",
    "    preempt=\"resample\",\n",
    "    max_simulation_time=20000,\n",
    "    warmup=200,\n",
    ")"
   ]
  },
  {
   "cell_type": "code",
   "execution_count": 4,
   "metadata": {},
   "outputs": [
    {
     "data": {
      "text/plain": [
       "{0: 0.18902347103656778, 1: 0.3986866457353476}"
      ]
     },
     "execution_count": 4,
     "metadata": {},
     "output_type": "execute_result"
    }
   ],
   "source": [
    "M.mean_sojourn_times_by_class"
   ]
  },
  {
   "cell_type": "code",
   "execution_count": 5,
   "metadata": {},
   "outputs": [
    {
     "data": {
      "text/plain": [
       "{0: 0.21352934386214534, 1: 0.43126752243822564}"
      ]
     },
     "execution_count": 5,
     "metadata": {},
     "output_type": "execute_result"
    }
   ],
   "source": [
    "S.mean_sojourn_times_by_class"
   ]
  },
  {
   "cell_type": "code",
   "execution_count": 6,
   "metadata": {},
   "outputs": [
    {
     "data": {
      "image/png": "[encoded data removed]",
      "text/plain": [
       "<Figure size 432x288 with 1 Axes>"
      ]
     },
     "metadata": {},
     "output_type": "display_data"
    }
   ],
   "source": [
    "plt.plot([M.aggregate_probs[s] for s in range(M.inf)])\n",
    "plt.plot([S.aggregate_probs[s] for s in range(M.inf)])\n",
    "plt.show()"
   ]
  },
  {
   "cell_type": "markdown",
   "metadata": {},
   "source": [
    "# Test for 2 classes (more likely to transition to lower class)"
   ]
  },
  {
   "cell_type": "code",
   "execution_count": 7,
   "metadata": {},
   "outputs": [],
   "source": [
    "M = models.MarkovChain(\n",
    "    number_of_servers=1,\n",
    "    arrival_rates=[3, 5],\n",
    "    service_rates=[12, 13],\n",
    "    class_change_rate_matrix=[[None, 2], [4, None]],\n",
    "    inf=15,\n",
    "    sojourn=True,\n",
    ")"
   ]
  },
  {
   "cell_type": "code",
   "execution_count": 8,
   "metadata": {},
   "outputs": [
    {
     "name": "stderr",
     "output_type": "stream",
     "text": [
      "100%|██████████| 20000.0/20000 [00:08<00:00, 2421.90it/s]           \n"
     ]
    }
   ],
   "source": [
    "S = models.Simulation(\n",
    "    number_of_servers=1,\n",
    "    arrival_rates=[3, 5],\n",
    "    service_rates=[12, 13],\n",
    "    class_change_rate_matrix=[[None, 2], [4, None]],\n",
    "    preempt=\"resample\",\n",
    "    max_simulation_time=20000,\n",
    "    warmup=200,\n",
    ")"
   ]
  },
  {
   "cell_type": "code",
   "execution_count": 9,
   "metadata": {},
   "outputs": [
    {
     "data": {
      "text/plain": [
       "{0: 0.18089660378794423, 1: 0.273353502928004}"
      ]
     },
     "execution_count": 9,
     "metadata": {},
     "output_type": "execute_result"
    }
   ],
   "source": [
    "M.mean_sojourn_times_by_class"
   ]
  },
  {
   "cell_type": "code",
   "execution_count": 10,
   "metadata": {},
   "outputs": [
    {
     "data": {
      "text/plain": [
       "{0: 0.1882358779981407, 1: 0.2759316380175123}"
      ]
     },
     "execution_count": 10,
     "metadata": {},
     "output_type": "execute_result"
    }
   ],
   "source": [
    "S.mean_sojourn_times_by_class"
   ]
  },
  {
   "cell_type": "code",
   "execution_count": 11,
   "metadata": {},
   "outputs": [
    {
     "data": {
      "image/png": "[encoded data removed]",
      "text/plain": [
       "<Figure size 432x288 with 1 Axes>"
      ]
     },
     "metadata": {},
     "output_type": "display_data"
    }
   ],
   "source": [
    "plt.plot([M.aggregate_probs[s] for s in range(M.inf)])\n",
    "plt.plot([S.aggregate_probs[s] for s in range(M.inf)])\n",
    "plt.show()"
   ]
  },
  {
   "cell_type": "markdown",
   "metadata": {},
   "source": [
    "# Test for 3 classes"
   ]
  },
  {
   "cell_type": "code",
   "execution_count": 12,
   "metadata": {},
   "outputs": [],
   "source": [
    "M = models.MarkovChain(\n",
    "    number_of_servers=1,\n",
    "    arrival_rates=[0.5, 1.3, 0.6],\n",
    "    service_rates=[9, 9, 8],\n",
    "    class_change_rate_matrix=[[None, 1, 0.6], [1.1, None, 0.7], [1.2, 1, None]],\n",
    "    inf=8,\n",
    "    sojourn=True,\n",
    ")"
   ]
  },
  {
   "cell_type": "code",
   "execution_count": 13,
   "metadata": {},
   "outputs": [
    {
     "name": "stderr",
     "output_type": "stream",
     "text": [
      "100%|██████████| 20000.0/20000 [00:02<00:00, 6671.22it/s]           \n"
     ]
    }
   ],
   "source": [
    "S = models.Simulation(\n",
    "    number_of_servers=1,\n",
    "    arrival_rates=[0.5, 1.3, 0.6],\n",
    "    service_rates=[9, 9, 8],\n",
    "    class_change_rate_matrix=[[None, 1, 0.6], [1.1, None, 0.7], [1.2, 1, None]],\n",
    "    preempt=\"resample\",\n",
    "    max_simulation_time=20000,\n",
    "    warmup=200,\n",
    ")"
   ]
  },
  {
   "cell_type": "code",
   "execution_count": 14,
   "metadata": {},
   "outputs": [
    {
     "data": {
      "text/plain": [
       "{0: 0.12040925067876722, 1: 0.152947125428153, 2: 0.19299607181584888}"
      ]
     },
     "execution_count": 14,
     "metadata": {},
     "output_type": "execute_result"
    }
   ],
   "source": [
    "M.mean_sojourn_times_by_class"
   ]
  },
  {
   "cell_type": "code",
   "execution_count": 15,
   "metadata": {},
   "outputs": [
    {
     "data": {
      "text/plain": [
       "{0: 0.12141414947523298, 1: 0.16716115941303497, 2: 0.21770501645138454}"
      ]
     },
     "execution_count": 15,
     "metadata": {},
     "output_type": "execute_result"
    }
   ],
   "source": [
    "S.mean_sojourn_times_by_class"
   ]
  },
  {
   "cell_type": "code",
   "execution_count": 16,
   "metadata": {},
   "outputs": [
    {
     "data": {
      "image/png": "[encoded data removed]",
      "text/plain": [
       "<Figure size 432x288 with 1 Axes>"
      ]
     },
     "metadata": {},
     "output_type": "display_data"
    }
   ],
   "source": [
    "plt.plot([M.aggregate_probs[s] for s in range(M.inf)])\n",
    "plt.plot([S.aggregate_probs[s] for s in range(M.inf)])\n",
    "plt.show()"
   ]
  },
  {
   "cell_type": "markdown",
   "metadata": {},
   "source": [
    "# Test for more than 1 server"
   ]
  },
  {
   "cell_type": "code",
   "execution_count": 17,
   "metadata": {},
   "outputs": [],
   "source": [
    "M = models.MarkovChain(\n",
    "    number_of_servers=2,\n",
    "    arrival_rates=[3, 4],\n",
    "    service_rates=[6.5, 7.5],\n",
    "    class_change_rate_matrix=[[None, 2], [4, None]],\n",
    "    inf=15,\n",
    "    sojourn=True,\n",
    ")"
   ]
  },
  {
   "cell_type": "code",
   "execution_count": 18,
   "metadata": {},
   "outputs": [
    {
     "name": "stderr",
     "output_type": "stream",
     "text": [
      "100%|██████████| 50000.0/50000 [00:17<00:00, 2919.22it/s]           \n"
     ]
    }
   ],
   "source": [
    "S = models.Simulation(\n",
    "    number_of_servers=2,\n",
    "    arrival_rates=[3, 4],\n",
    "    service_rates=[6.5, 7.5],\n",
    "    class_change_rate_matrix=[[None, 2], [4, None]],\n",
    "    preempt=\"resample\",\n",
    "    max_simulation_time=50000,\n",
    "    warmup=200,\n",
    ")"
   ]
  },
  {
   "cell_type": "code",
   "execution_count": 19,
   "metadata": {},
   "outputs": [
    {
     "data": {
      "text/plain": [
       "{0: 0.17945813853456621, 1: 0.21367804890250472}"
      ]
     },
     "execution_count": 19,
     "metadata": {},
     "output_type": "execute_result"
    }
   ],
   "source": [
    "M.mean_sojourn_times_by_class"
   ]
  },
  {
   "cell_type": "code",
   "execution_count": 20,
   "metadata": {},
   "outputs": [
    {
     "data": {
      "text/plain": [
       "{0: 0.18072065767363052, 1: 0.23395262741057818}"
      ]
     },
     "execution_count": 20,
     "metadata": {},
     "output_type": "execute_result"
    }
   ],
   "source": [
    "S.mean_sojourn_times_by_class"
   ]
  },
  {
   "cell_type": "code",
   "execution_count": 21,
   "metadata": {},
   "outputs": [
    {
     "data": {
      "image/png": "[encoded data removed]",
      "text/plain": [
       "<Figure size 432x288 with 1 Axes>"
      ]
     },
     "metadata": {},
     "output_type": "display_data"
    }
   ],
   "source": [
    "plt.plot([M.aggregate_probs[s] for s in range(M.inf)])\n",
    "plt.plot([S.aggregate_probs[s] for s in range(M.inf)])\n",
    "plt.show()"
   ]
  },
  {
   "cell_type": "markdown",
   "metadata": {},
   "source": [
    "# What about 3 servers..."
   ]
  },
  {
   "cell_type": "code",
   "execution_count": 22,
   "metadata": {},
   "outputs": [],
   "source": [
    "M = models.MarkovChain(\n",
    "    number_of_servers=3,\n",
    "    arrival_rates=[3, 4],\n",
    "    service_rates=[3.8, 4],\n",
    "    class_change_rate_matrix=[[None, 1], [2, None]],\n",
    "    inf=15,\n",
    "    sojourn=True,\n",
    ")"
   ]
  },
  {
   "cell_type": "code",
   "execution_count": 23,
   "metadata": {},
   "outputs": [
    {
     "name": "stderr",
     "output_type": "stream",
     "text": [
      "100%|██████████| 80000.0/80000 [00:27<00:00, 2912.35it/s]           \n"
     ]
    }
   ],
   "source": [
    "S = models.Simulation(\n",
    "    number_of_servers=3,\n",
    "    arrival_rates=[3, 4],\n",
    "    service_rates=[3.8, 4],\n",
    "    class_change_rate_matrix=[[None, 1], [2, None]],\n",
    "    preempt=\"resample\",\n",
    "    max_simulation_time=80000,\n",
    "    warmup=200,\n",
    ")"
   ]
  },
  {
   "cell_type": "code",
   "execution_count": 24,
   "metadata": {},
   "outputs": [
    {
     "data": {
      "text/plain": [
       "{0: 0.29017030384006015, 1: 0.3703351321519086}"
      ]
     },
     "execution_count": 24,
     "metadata": {},
     "output_type": "execute_result"
    }
   ],
   "source": [
    "M.mean_sojourn_times_by_class"
   ]
  },
  {
   "cell_type": "code",
   "execution_count": 25,
   "metadata": {},
   "outputs": [
    {
     "data": {
      "text/plain": [
       "{0: 0.29526485897362903, 1: 0.41870241165543814}"
      ]
     },
     "execution_count": 25,
     "metadata": {},
     "output_type": "execute_result"
    }
   ],
   "source": [
    "S.mean_sojourn_times_by_class"
   ]
  },
  {
   "cell_type": "code",
   "execution_count": 26,
   "metadata": {},
   "outputs": [
    {
     "data": {
      "image/png": "[encoded data removed]",
      "text/plain": [
       "<Figure size 432x288 with 1 Axes>"
      ]
     },
     "metadata": {},
     "output_type": "display_data"
    }
   ],
   "source": [
    "plt.plot([M.aggregate_probs[s] for s in range(M.inf)])\n",
    "plt.plot([S.aggregate_probs[s] for s in range(M.inf)])\n",
    "plt.show()"
   ]
  },
  {
   "cell_type": "markdown",
   "metadata": {},
   "source": [
    "# Test for multiple servers and more than two classes"
   ]
  },
  {
   "cell_type": "code",
   "execution_count": 27,
   "metadata": {},
   "outputs": [],
   "source": [
    "M = models.MarkovChain(\n",
    "    number_of_servers=2,\n",
    "    arrival_rates=[1, 0.8, 0.5],\n",
    "    service_rates=[3, 2.5, 2],\n",
    "    class_change_rate_matrix=[[None, 1, 0.5], [0.5, None, 0.5], [1, 0.7, None]],\n",
    "    inf=8,\n",
    "    sojourn=True,\n",
    ")"
   ]
  },
  {
   "cell_type": "code",
   "execution_count": 28,
   "metadata": {},
   "outputs": [
    {
     "name": "stderr",
     "output_type": "stream",
     "text": [
      "100%|██████████| 20000.0/20000 [00:02<00:00, 9849.90it/s]            \n"
     ]
    }
   ],
   "source": [
    "S = models.Simulation(\n",
    "    number_of_servers=2,\n",
    "    arrival_rates=[1, 0.8, 0.5],\n",
    "    service_rates=[3, 2.5, 2],\n",
    "    class_change_rate_matrix=[[None, 1, 0.5], [0.5, None, 0.5], [1, 0.7, None]],\n",
    "    preempt=\"resample\",\n",
    "    max_simulation_time=20000,\n",
    "    warmup=200,\n",
    ")"
   ]
  },
  {
   "cell_type": "code",
   "execution_count": 29,
   "metadata": {},
   "outputs": [
    {
     "data": {
      "text/plain": [
       "{0: 0.3524413774401783, 1: 0.5031135931840708, 2: 0.6393170884346043}"
      ]
     },
     "execution_count": 29,
     "metadata": {},
     "output_type": "execute_result"
    }
   ],
   "source": [
    "M.mean_sojourn_times_by_class"
   ]
  },
  {
   "cell_type": "code",
   "execution_count": 30,
   "metadata": {},
   "outputs": [
    {
     "data": {
      "text/plain": [
       "{0: 0.3556956570068307, 1: 0.5815195817134028, 2: 0.7638611622805054}"
      ]
     },
     "execution_count": 30,
     "metadata": {},
     "output_type": "execute_result"
    }
   ],
   "source": [
    "S.mean_sojourn_times_by_class"
   ]
  },
  {
   "cell_type": "code",
   "execution_count": 31,
   "metadata": {},
   "outputs": [
    {
     "data": {
      "image/png": "[encoded data removed]",
      "text/plain": [
       "<Figure size 432x288 with 1 Axes>"
      ]
     },
     "metadata": {},
     "output_type": "display_data"
    }
   ],
   "source": [
    "plt.plot([M.aggregate_probs[s] for s in range(M.inf)])\n",
    "plt.plot([S.aggregate_probs[s] for s in range(M.inf)])\n",
    "plt.show()"
   ]
  },
  {
   "cell_type": "code",
   "execution_count": null,
   "metadata": {},
   "outputs": [],
   "source": []
  }
 ],
 "metadata": {
  "kernelspec": {
   "display_name": "Python 3",
   "language": "python",
   "name": "python3"
  },
  "language_info": {
   "codemirror_mode": {
    "name": "ipython",
    "version": 3
   },
   "file_extension": ".py",
   "mimetype": "text/x-python",
   "name": "python",
   "nbconvert_exporter": "python",
   "pygments_lexer": "ipython3",
   "version": "3.7.3"
  }
 },
 "nbformat": 4,
 "nbformat_minor": 2
}
